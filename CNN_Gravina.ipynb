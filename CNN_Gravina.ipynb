{
  "cells": [
    {
      "cell_type": "markdown",
      "metadata": {
        "id": "view-in-github",
        "colab_type": "text"
      },
      "source": [
        "<a href=\"https://colab.research.google.com/github/logfabio/knowledge-engineering-project/blob/main/CNN_Gravina.ipynb\" target=\"_parent\"><img src=\"https://colab.research.google.com/assets/colab-badge.svg\" alt=\"Open In Colab\"/></a>"
      ]
    },
    {
      "cell_type": "markdown",
      "metadata": {
        "id": "JLNyEhMwCFUW"
      },
      "source": [
        "#Monuments Classification\n",
        "Fabio Loguercio\n",
        "\n"
      ]
    },
    {
      "cell_type": "markdown",
      "metadata": {
        "id": "MPgVE5GEGoBq"
      },
      "source": [
        "## Fine tuning\n",
        "Utilizzo il fine tuning della rete VGG16. \n",
        "Per prima cosa, effettuo gli import necessari per l'esecuzione del progetto."
      ]
    },
    {
      "cell_type": "code",
      "execution_count": null,
      "metadata": {
        "id": "BZ7EX9haT7Jx"
      },
      "outputs": [],
      "source": [
        "from keras.applications.vgg16 import VGG16\n",
        "from keras.models import Sequential\n",
        "from keras.layers import Flatten, Dense, Dropout\n",
        "from keras.preprocessing.image import ImageDataGenerator\n",
        "from matplotlib import pyplot as plt\n",
        "import random\n",
        "from tensorflow.keras.optimizers import Adam\n",
        "from keras.applications.vgg16 import preprocess_input\n",
        "from keras.callbacks import ModelCheckpoint\n",
        "import math"
      ]
    },
    {
      "cell_type": "markdown",
      "metadata": {
        "id": "7rQWmDe1IWSq"
      },
      "source": [
        "Definisco alcune costanti: `IMAGE_SIZE` specifica la dimensione dell'immagine (altezza e larghezza) in pixel. VGG16 è stata addestrata su immagini a colori con dimensione 224x224 pixel.\n",
        "\n"
      ]
    },
    {
      "cell_type": "code",
      "execution_count": null,
      "metadata": {
        "id": "298ZhBolKNEA"
      },
      "outputs": [],
      "source": [
        "IMAGE_SIZE = 224\n",
        "random.seed(3)"
      ]
    },
    {
      "cell_type": "markdown",
      "metadata": {
        "id": "bd-W-b6VKShJ"
      },
      "source": [
        "Carico il modello VGG16, andando a definire con `weights` i pesi ottenuti con l'addestramento della rete su ImageNet, con `include_top` impostato a `False` decido di non includere l'ultimo blocco di layer fully connected (Fully-Connected Classifier) e, infine, con `input_shape` definisco la dimensione delle immagini in input alla rete."
      ]
    },
    {
      "cell_type": "code",
      "execution_count": null,
      "metadata": {
        "colab": {
          "base_uri": "https://localhost:8080/"
        },
        "id": "Xsdc6K3tMP_w",
        "outputId": "3d1f1e41-2382-4536-a2fa-2cfdcd38aa78"
      },
      "outputs": [
        {
          "output_type": "stream",
          "name": "stdout",
          "text": [
            "Downloading data from https://storage.googleapis.com/tensorflow/keras-applications/vgg16/vgg16_weights_tf_dim_ordering_tf_kernels_notop.h5\n",
            "58892288/58889256 [==============================] - 0s 0us/step\n",
            "58900480/58889256 [==============================] - 0s 0us/step\n"
          ]
        }
      ],
      "source": [
        "vgg16 = VGG16(weights=\"imagenet\", include_top=False, input_shape=(IMAGE_SIZE, IMAGE_SIZE, 3))"
      ]
    },
    {
      "cell_type": "markdown",
      "metadata": {
        "id": "-kVlUawfMW_-"
      },
      "source": [
        "Per effettuare il fine tuning della rete vado a congelare i pesi di tutti i layer, eccetto gli ultimi 4 (Conv Block #5)."
      ]
    },
    {
      "cell_type": "code",
      "execution_count": null,
      "metadata": {
        "id": "2k-5KH5PN0dQ"
      },
      "outputs": [],
      "source": [
        "for layer in vgg16.layers[:-4]:\n",
        "  layer.trainable = False"
      ]
    },
    {
      "cell_type": "markdown",
      "metadata": {
        "id": "wdmPXDz4O5XG"
      },
      "source": [
        "Sostituisco i layer non inclusi in precedenza con dei nuovi layer che si occuperanno di effettuare la classificazione. \n",
        "\n",
        "Quindi creo un nuovo modello di tipo Sequential al quale aggiungo tutti i layer considerati in precedenza di VGG16 e i seguenti nuovi layer:\n",
        "*   Flatten\n",
        "*   Dense\n",
        "*   Dropout\n",
        "*   Dense"
      ]
    },
    {
      "cell_type": "code",
      "execution_count": null,
      "metadata": {
        "colab": {
          "base_uri": "https://localhost:8080/"
        },
        "id": "4BXzjjkZPsFo",
        "outputId": "af5974cd-c25d-4981-8e70-1fb87de542e1"
      },
      "outputs": [
        {
          "output_type": "stream",
          "name": "stdout",
          "text": [
            "Model: \"vgg16\"\n",
            "_________________________________________________________________\n",
            " Layer (type)                Output Shape              Param #   \n",
            "=================================================================\n",
            " input_1 (InputLayer)        [(None, 224, 224, 3)]     0         \n",
            "                                                                 \n",
            " block1_conv1 (Conv2D)       (None, 224, 224, 64)      1792      \n",
            "                                                                 \n",
            " block1_conv2 (Conv2D)       (None, 224, 224, 64)      36928     \n",
            "                                                                 \n",
            " block1_pool (MaxPooling2D)  (None, 112, 112, 64)      0         \n",
            "                                                                 \n",
            " block2_conv1 (Conv2D)       (None, 112, 112, 128)     73856     \n",
            "                                                                 \n",
            " block2_conv2 (Conv2D)       (None, 112, 112, 128)     147584    \n",
            "                                                                 \n",
            " block2_pool (MaxPooling2D)  (None, 56, 56, 128)       0         \n",
            "                                                                 \n",
            " block3_conv1 (Conv2D)       (None, 56, 56, 256)       295168    \n",
            "                                                                 \n",
            " block3_conv2 (Conv2D)       (None, 56, 56, 256)       590080    \n",
            "                                                                 \n",
            " block3_conv3 (Conv2D)       (None, 56, 56, 256)       590080    \n",
            "                                                                 \n",
            " block3_pool (MaxPooling2D)  (None, 28, 28, 256)       0         \n",
            "                                                                 \n",
            " block4_conv1 (Conv2D)       (None, 28, 28, 512)       1180160   \n",
            "                                                                 \n",
            " block4_conv2 (Conv2D)       (None, 28, 28, 512)       2359808   \n",
            "                                                                 \n",
            " block4_conv3 (Conv2D)       (None, 28, 28, 512)       2359808   \n",
            "                                                                 \n",
            " block4_pool (MaxPooling2D)  (None, 14, 14, 512)       0         \n",
            "                                                                 \n",
            " block5_conv1 (Conv2D)       (None, 14, 14, 512)       2359808   \n",
            "                                                                 \n",
            " block5_conv2 (Conv2D)       (None, 14, 14, 512)       2359808   \n",
            "                                                                 \n",
            " block5_conv3 (Conv2D)       (None, 14, 14, 512)       2359808   \n",
            "                                                                 \n",
            " block5_pool (MaxPooling2D)  (None, 7, 7, 512)         0         \n",
            "                                                                 \n",
            "=================================================================\n",
            "Total params: 14,714,688\n",
            "Trainable params: 7,079,424\n",
            "Non-trainable params: 7,635,264\n",
            "_________________________________________________________________\n",
            "Model: \"sequential_1\"\n",
            "_________________________________________________________________\n",
            " Layer (type)                Output Shape              Param #   \n",
            "=================================================================\n",
            " vgg16 (Functional)          (None, 7, 7, 512)         14714688  \n",
            "                                                                 \n",
            " flatten_1 (Flatten)         (None, 25088)             0         \n",
            "                                                                 \n",
            " dense_2 (Dense)             (None, 1024)              25691136  \n",
            "                                                                 \n",
            " dropout_1 (Dropout)         (None, 1024)              0         \n",
            "                                                                 \n",
            " dense_3 (Dense)             (None, 17)                17425     \n",
            "                                                                 \n",
            "=================================================================\n",
            "Total params: 40,423,249\n",
            "Trainable params: 32,787,985\n",
            "Non-trainable params: 7,635,264\n",
            "_________________________________________________________________\n"
          ]
        }
      ],
      "source": [
        "model = Sequential()\n",
        "\n",
        "model.add(vgg16)\n",
        "\n",
        "model.add(Flatten())\n",
        "model.add(Dense(1024, activation=\"relu\"))\n",
        "model.add(Dropout(0.5))\n",
        "model.add(Dense(17, activation=\"softmax\"))\n",
        "\n",
        "vgg16.summary()\n",
        "model.summary()"
      ]
    },
    {
      "cell_type": "markdown",
      "source": [
        "Accedo al Google Drive per caricare il dataset"
      ],
      "metadata": {
        "id": "4vlnuQekdUCc"
      }
    },
    {
      "cell_type": "code",
      "execution_count": null,
      "metadata": {
        "colab": {
          "base_uri": "https://localhost:8080/"
        },
        "id": "R1_y9H9uPFOX",
        "outputId": "53a449b9-6cac-4ce9-d6d7-16a89b8da476"
      },
      "outputs": [
        {
          "output_type": "stream",
          "name": "stdout",
          "text": [
            "Mounted at /content/drive\n"
          ]
        }
      ],
      "source": [
        "from google.colab import drive\n",
        "drive.mount('/content/drive')"
      ]
    },
    {
      "cell_type": "markdown",
      "metadata": {
        "id": "bfG72NE-TNen"
      },
      "source": [
        "Definita la struttura della rete, vado a definire le cartelle per il training set e per il validation set."
      ]
    },
    {
      "cell_type": "code",
      "execution_count": null,
      "metadata": {
        "id": "ocJmZzqMX8zH"
      },
      "outputs": [],
      "source": [
        "train_folder = \"/content/drive/MyDrive/Colab Notebooks/Dataset Gravina/Train/\"\n",
        "\n",
        "train_datagen = ImageDataGenerator(preprocessing_function=preprocess_input, validation_split=0.15)\n"
      ]
    },
    {
      "cell_type": "markdown",
      "metadata": {
        "id": "Va5_RpWGxVed"
      },
      "source": [
        "Con il metodo flow_from_directory() vado a creare i batch con le immagini preprocessate. \n",
        "\n",
        "La dimensione dei batch di training è di 34, mentre quella dei batch di validation è di 8."
      ]
    },
    {
      "cell_type": "code",
      "execution_count": null,
      "metadata": {
        "colab": {
          "base_uri": "https://localhost:8080/"
        },
        "id": "vCwJVvJQydmy",
        "outputId": "8d70938a-5c92-4f89-8c02-a30cf3efd6a5"
      },
      "outputs": [
        {
          "output_type": "stream",
          "name": "stdout",
          "text": [
            "Found 318 images belonging to 17 classes.\n",
            "Found 48 images belonging to 17 classes.\n"
          ]
        }
      ],
      "source": [
        "train_batchsize = 34\n",
        "val_batchsize = 8\n",
        "\n",
        "train_generator = train_datagen.flow_from_directory(\n",
        "        train_folder,\n",
        "        target_size=(IMAGE_SIZE, IMAGE_SIZE),\n",
        "        batch_size=train_batchsize,\n",
        "        class_mode=\"categorical\",\n",
        "        subset='training'\n",
        ")\n",
        "\n",
        "val_generator = train_datagen.flow_from_directory(\n",
        "        train_folder,\n",
        "        target_size=(IMAGE_SIZE, IMAGE_SIZE),\n",
        "        batch_size=val_batchsize,\n",
        "        class_mode=\"categorical\",\n",
        "        shuffle=False,\n",
        "        subset='validation'\n",
        ")"
      ]
    },
    {
      "cell_type": "markdown",
      "metadata": {
        "id": "FaVySoOAzhMZ"
      },
      "source": [
        "Per il salvataggio del modello prenderò il modello che durante tutte le epoche di training, ha fatto registrare l'accuracy sul validation set maggiore.\n",
        "\n",
        "Creo una lista chiamata `callbacks_list`, per definire altre azioni da eseguire al termine di ogni epoca  "
      ]
    },
    {
      "cell_type": "code",
      "execution_count": null,
      "metadata": {
        "id": "qsCYP6eHztTx"
      },
      "outputs": [],
      "source": [
        "filepath = \"model.hdf5\"\n",
        "checkpoint = ModelCheckpoint(filepath, monitor='val_acc', verbose=1, save_best_only=True, mode='max')\n",
        "callbacks_list = [checkpoint]"
      ]
    },
    {
      "cell_type": "markdown",
      "metadata": {
        "id": "t_oiEyAlESRl"
      },
      "source": [
        "Definisco altri iperparametri per effettuare il training"
      ]
    },
    {
      "cell_type": "code",
      "execution_count": null,
      "metadata": {
        "colab": {
          "base_uri": "https://localhost:8080/"
        },
        "id": "coUMez5dEe0j",
        "outputId": "9c33093d-72ba-4c04-9495-2c2fa6e1055c"
      },
      "outputs": [
        {
          "output_type": "stream",
          "name": "stderr",
          "text": [
            "/usr/local/lib/python3.7/dist-packages/keras/optimizer_v2/adam.py:105: UserWarning: The `lr` argument is deprecated, use `learning_rate` instead.\n",
            "  super(Adam, self).__init__(name, **kwargs)\n"
          ]
        }
      ],
      "source": [
        "num_epochs = 30\n",
        "learning_rate = 1.25e-4\n",
        "adam = Adam(lr=learning_rate)\n",
        "model.compile(loss=\"categorical_crossentropy\", optimizer=adam, metrics=['acc'])"
      ]
    },
    {
      "cell_type": "markdown",
      "metadata": {
        "id": "-NQs7QlRErPj"
      },
      "source": [
        "Faccio partire il training"
      ]
    },
    {
      "cell_type": "code",
      "execution_count": null,
      "metadata": {
        "colab": {
          "base_uri": "https://localhost:8080/"
        },
        "id": "rFZJap31Evvj",
        "outputId": "45d13398-c539-4c7e-bd5b-9ef0b3a31ac9"
      },
      "outputs": [
        {
          "output_type": "stream",
          "name": "stdout",
          "text": [
            "Epoch 1/30\n",
            "10/10 [==============================] - ETA: 0s - loss: 9.9120 - acc: 0.1761  \n",
            "Epoch 1: val_acc improved from -inf to 0.37500, saving model to model.hdf5\n",
            "10/10 [==============================] - 233s 23s/step - loss: 9.9120 - acc: 0.1761 - val_loss: 1.9347 - val_acc: 0.3750\n",
            "Epoch 2/30\n",
            "10/10 [==============================] - ETA: 0s - loss: 1.5832 - acc: 0.5189\n",
            "Epoch 2: val_acc improved from 0.37500 to 0.66667, saving model to model.hdf5\n",
            "10/10 [==============================] - 44s 5s/step - loss: 1.5832 - acc: 0.5189 - val_loss: 1.3651 - val_acc: 0.6667\n",
            "Epoch 3/30\n",
            "10/10 [==============================] - ETA: 0s - loss: 0.5399 - acc: 0.8333\n",
            "Epoch 3: val_acc improved from 0.66667 to 0.77083, saving model to model.hdf5\n",
            "10/10 [==============================] - 44s 4s/step - loss: 0.5399 - acc: 0.8333 - val_loss: 1.0185 - val_acc: 0.7708\n",
            "Epoch 4/30\n",
            "10/10 [==============================] - ETA: 0s - loss: 0.0822 - acc: 0.9717\n",
            "Epoch 4: val_acc improved from 0.77083 to 0.79167, saving model to model.hdf5\n",
            "10/10 [==============================] - 44s 4s/step - loss: 0.0822 - acc: 0.9717 - val_loss: 0.8645 - val_acc: 0.7917\n",
            "Epoch 5/30\n",
            "10/10 [==============================] - ETA: 0s - loss: 0.0370 - acc: 0.9906\n",
            "Epoch 5: val_acc improved from 0.79167 to 0.83333, saving model to model.hdf5\n",
            "10/10 [==============================] - 44s 4s/step - loss: 0.0370 - acc: 0.9906 - val_loss: 0.7331 - val_acc: 0.8333\n",
            "Epoch 6/30\n",
            "10/10 [==============================] - ETA: 0s - loss: 0.0157 - acc: 0.9969\n",
            "Epoch 6: val_acc improved from 0.83333 to 0.87500, saving model to model.hdf5\n",
            "10/10 [==============================] - 44s 4s/step - loss: 0.0157 - acc: 0.9969 - val_loss: 0.6579 - val_acc: 0.8750\n",
            "Epoch 7/30\n",
            "10/10 [==============================] - ETA: 0s - loss: 0.0050 - acc: 0.9969\n",
            "Epoch 7: val_acc did not improve from 0.87500\n",
            "10/10 [==============================] - 44s 4s/step - loss: 0.0050 - acc: 0.9969 - val_loss: 0.6688 - val_acc: 0.8125\n",
            "Epoch 8/30\n",
            "10/10 [==============================] - ETA: 0s - loss: 0.0089 - acc: 0.9969\n",
            "Epoch 8: val_acc did not improve from 0.87500\n",
            "10/10 [==============================] - 43s 5s/step - loss: 0.0089 - acc: 0.9969 - val_loss: 0.6306 - val_acc: 0.8333\n",
            "Epoch 9/30\n",
            "10/10 [==============================] - ETA: 0s - loss: 0.0097 - acc: 0.9969\n",
            "Epoch 9: val_acc did not improve from 0.87500\n",
            "10/10 [==============================] - 43s 4s/step - loss: 0.0097 - acc: 0.9969 - val_loss: 0.5904 - val_acc: 0.8542\n",
            "Epoch 10/30\n",
            "10/10 [==============================] - ETA: 0s - loss: 0.0085 - acc: 0.9937\n",
            "Epoch 10: val_acc did not improve from 0.87500\n",
            "10/10 [==============================] - 43s 4s/step - loss: 0.0085 - acc: 0.9937 - val_loss: 0.5761 - val_acc: 0.8333\n",
            "Epoch 11/30\n",
            "10/10 [==============================] - ETA: 0s - loss: 0.0113 - acc: 0.9937\n",
            "Epoch 11: val_acc did not improve from 0.87500\n",
            "10/10 [==============================] - 44s 5s/step - loss: 0.0113 - acc: 0.9937 - val_loss: 0.5088 - val_acc: 0.8542\n",
            "Epoch 12/30\n",
            "10/10 [==============================] - ETA: 0s - loss: 0.0150 - acc: 0.9937\n",
            "Epoch 12: val_acc did not improve from 0.87500\n",
            "10/10 [==============================] - 43s 4s/step - loss: 0.0150 - acc: 0.9937 - val_loss: 0.6438 - val_acc: 0.8542\n",
            "Epoch 13/30\n",
            "10/10 [==============================] - ETA: 0s - loss: 0.0046 - acc: 1.0000\n",
            "Epoch 13: val_acc did not improve from 0.87500\n",
            "10/10 [==============================] - 43s 4s/step - loss: 0.0046 - acc: 1.0000 - val_loss: 0.7632 - val_acc: 0.8125\n",
            "Epoch 14/30\n",
            "10/10 [==============================] - ETA: 0s - loss: 0.0011 - acc: 1.0000\n",
            "Epoch 14: val_acc did not improve from 0.87500\n",
            "10/10 [==============================] - 43s 4s/step - loss: 0.0011 - acc: 1.0000 - val_loss: 0.7582 - val_acc: 0.8125\n",
            "Epoch 15/30\n",
            "10/10 [==============================] - ETA: 0s - loss: 1.9546e-04 - acc: 1.0000\n",
            "Epoch 15: val_acc did not improve from 0.87500\n",
            "10/10 [==============================] - 44s 4s/step - loss: 1.9546e-04 - acc: 1.0000 - val_loss: 0.7397 - val_acc: 0.8125\n",
            "Epoch 16/30\n",
            "10/10 [==============================] - ETA: 0s - loss: 0.0014 - acc: 1.0000\n",
            "Epoch 16: val_acc did not improve from 0.87500\n",
            "10/10 [==============================] - 43s 4s/step - loss: 0.0014 - acc: 1.0000 - val_loss: 0.7012 - val_acc: 0.8333\n",
            "Epoch 17/30\n",
            "10/10 [==============================] - ETA: 0s - loss: 0.0049 - acc: 0.9969\n",
            "Epoch 17: val_acc did not improve from 0.87500\n",
            "10/10 [==============================] - 43s 4s/step - loss: 0.0049 - acc: 0.9969 - val_loss: 0.6847 - val_acc: 0.8750\n",
            "Epoch 18/30\n",
            "10/10 [==============================] - ETA: 0s - loss: 0.0150 - acc: 0.9937\n",
            "Epoch 18: val_acc did not improve from 0.87500\n",
            "10/10 [==============================] - 43s 4s/step - loss: 0.0150 - acc: 0.9937 - val_loss: 0.6810 - val_acc: 0.8333\n",
            "Epoch 19/30\n",
            "10/10 [==============================] - ETA: 0s - loss: 0.0029 - acc: 0.9969\n",
            "Epoch 19: val_acc did not improve from 0.87500\n",
            "10/10 [==============================] - 44s 5s/step - loss: 0.0029 - acc: 0.9969 - val_loss: 0.8258 - val_acc: 0.8125\n",
            "Epoch 20/30\n",
            "10/10 [==============================] - ETA: 0s - loss: 0.0061 - acc: 0.9969\n",
            "Epoch 20: val_acc did not improve from 0.87500\n",
            "10/10 [==============================] - 43s 4s/step - loss: 0.0061 - acc: 0.9969 - val_loss: 0.8615 - val_acc: 0.7917\n",
            "Epoch 21/30\n",
            "10/10 [==============================] - ETA: 0s - loss: 2.7746e-04 - acc: 1.0000\n",
            "Epoch 21: val_acc did not improve from 0.87500\n",
            "10/10 [==============================] - 43s 5s/step - loss: 2.7746e-04 - acc: 1.0000 - val_loss: 0.8711 - val_acc: 0.8125\n",
            "Epoch 22/30\n",
            "10/10 [==============================] - ETA: 0s - loss: 0.0021 - acc: 1.0000\n",
            "Epoch 22: val_acc did not improve from 0.87500\n",
            "10/10 [==============================] - 43s 4s/step - loss: 0.0021 - acc: 1.0000 - val_loss: 0.9488 - val_acc: 0.7917\n",
            "Epoch 23/30\n",
            "10/10 [==============================] - ETA: 0s - loss: 0.0068 - acc: 0.9969\n",
            "Epoch 23: val_acc did not improve from 0.87500\n",
            "10/10 [==============================] - 44s 4s/step - loss: 0.0068 - acc: 0.9969 - val_loss: 0.9197 - val_acc: 0.8125\n",
            "Epoch 24/30\n",
            "10/10 [==============================] - ETA: 0s - loss: 0.0038 - acc: 0.9969\n",
            "Epoch 24: val_acc did not improve from 0.87500\n",
            "10/10 [==============================] - 43s 4s/step - loss: 0.0038 - acc: 0.9969 - val_loss: 0.7794 - val_acc: 0.8333\n",
            "Epoch 25/30\n",
            "10/10 [==============================] - ETA: 0s - loss: 0.0072 - acc: 0.9969\n",
            "Epoch 25: val_acc did not improve from 0.87500\n",
            "10/10 [==============================] - 43s 4s/step - loss: 0.0072 - acc: 0.9969 - val_loss: 0.7911 - val_acc: 0.8125\n",
            "Epoch 26/30\n",
            "10/10 [==============================] - ETA: 0s - loss: 0.0010 - acc: 1.0000\n",
            "Epoch 26: val_acc did not improve from 0.87500\n",
            "10/10 [==============================] - 43s 4s/step - loss: 0.0010 - acc: 1.0000 - val_loss: 0.8204 - val_acc: 0.8333\n",
            "Epoch 27/30\n",
            "10/10 [==============================] - ETA: 0s - loss: 0.0044 - acc: 0.9969\n",
            "Epoch 27: val_acc did not improve from 0.87500\n",
            "10/10 [==============================] - 44s 4s/step - loss: 0.0044 - acc: 0.9969 - val_loss: 0.8531 - val_acc: 0.8125\n",
            "Epoch 28/30\n",
            "10/10 [==============================] - ETA: 0s - loss: 5.7313e-04 - acc: 1.0000\n",
            "Epoch 28: val_acc did not improve from 0.87500\n",
            "10/10 [==============================] - 43s 4s/step - loss: 5.7313e-04 - acc: 1.0000 - val_loss: 0.9107 - val_acc: 0.8333\n",
            "Epoch 29/30\n",
            "10/10 [==============================] - ETA: 0s - loss: 1.3711e-04 - acc: 1.0000\n",
            "Epoch 29: val_acc did not improve from 0.87500\n",
            "10/10 [==============================] - 43s 4s/step - loss: 1.3711e-04 - acc: 1.0000 - val_loss: 0.9229 - val_acc: 0.8333\n",
            "Epoch 30/30\n",
            "10/10 [==============================] - ETA: 0s - loss: 0.0011 - acc: 1.0000\n",
            "Epoch 30: val_acc did not improve from 0.87500\n",
            "10/10 [==============================] - 43s 4s/step - loss: 0.0011 - acc: 1.0000 - val_loss: 0.8930 - val_acc: 0.8333\n"
          ]
        }
      ],
      "source": [
        "history = model.fit(\n",
        "        train_generator,\n",
        "        epochs=num_epochs,\n",
        "        validation_data=val_generator,\n",
        "        verbose=1,\n",
        "        callbacks=callbacks_list\n",
        "    )"
      ]
    },
    {
      "cell_type": "markdown",
      "metadata": {
        "id": "S-rViwJDE2V0"
      },
      "source": [
        "Visualizzo su grafico l'andamento dell'accuracy e della funzione di loss durante le epoche"
      ]
    },
    {
      "cell_type": "code",
      "execution_count": null,
      "metadata": {
        "colab": {
          "base_uri": "https://localhost:8080/",
          "height": 545
        },
        "id": "-at-4ijET1p9",
        "outputId": "3c1e8d68-f2ad-4169-8e75-b979dc6fc940"
      },
      "outputs": [
        {
          "output_type": "display_data",
          "data": {
            "text/plain": [
              "<Figure size 432x288 with 1 Axes>"
            ],
            "image/png": "[encoded data removed]"
          },
          "metadata": {
            "needs_background": "light"
          }
        },
        {
          "output_type": "display_data",
          "data": {
            "text/plain": [
              "<Figure size 432x288 with 1 Axes>"
            ],
            "image/png": "[encoded data removed]"
          },
          "metadata": {
            "needs_background": "light"
          }
        }
      ],
      "source": [
        "acc = history.history['acc']\n",
        "val_acc = history.history['val_acc']\n",
        "loss = history.history['loss']\n",
        "val_loss = history.history['val_loss']\n",
        "\n",
        "epochs = range(len(acc))\n",
        "\n",
        "plt.plot(epochs, acc, 'b', label='Training acc')\n",
        "plt.plot(epochs, val_acc, 'r', label='Validation acc')\n",
        "plt.title('Training and validation accuracy')\n",
        "plt.legend()\n",
        "\n",
        "plt.figure()\n",
        "\n",
        "plt.plot(epochs, loss, 'b', label='Training loss')\n",
        "plt.plot(epochs, val_loss, 'r', label='Validation loss')\n",
        "plt.title('Training and validation loss')\n",
        "plt.legend()\n",
        "\n",
        "plt.show()\n",
        "    "
      ]
    },
    {
      "cell_type": "markdown",
      "metadata": {
        "id": "olCcOaDHcpfs"
      },
      "source": [
        "## Test\n",
        "Dopo aver creato il modello della rete, posso testarlo con le immagini presenti nel test set.\n",
        "\n",
        "Effettuiamo gli import necessari allo scopo."
      ]
    },
    {
      "cell_type": "code",
      "execution_count": null,
      "metadata": {
        "id": "1Ot0oZy_dExi"
      },
      "outputs": [],
      "source": [
        "import numpy as np\n",
        "from keras.models import load_model\n",
        "from keras.preprocessing.image import ImageDataGenerator\n",
        "import random\n",
        "from sklearn import metrics\n",
        "from sklearn.metrics import classification_report\n",
        "from matplotlib import pyplot as plt\n",
        "import seaborn as sns\n",
        "from keras.applications.vgg16 import preprocess_input"
      ]
    },
    {
      "cell_type": "markdown",
      "metadata": {
        "id": "WpmFgr10dHSq"
      },
      "source": [
        "Definisco la funzione `show_confusion_matrix()` che servirà più tardi per creare il grafico con la matrice di confusione."
      ]
    },
    {
      "cell_type": "code",
      "execution_count": null,
      "metadata": {
        "id": "1I3CZI_LdURT"
      },
      "outputs": [],
      "source": [
        "def show_confusion_matrix(validations, predictions, labels):\n",
        "\n",
        "    matrix = metrics.confusion_matrix(validations, predictions)\n",
        "    plt.figure(figsize=(6, 4))\n",
        "    sns.heatmap(matrix,\n",
        "                cmap='coolwarm',\n",
        "                linecolor='white',\n",
        "                linewidths=1,\n",
        "                xticklabels=labels,\n",
        "                yticklabels=labels,\n",
        "                annot=True,\n",
        "                fmt='d')\n",
        "    plt.title('Confusion Matrix')\n",
        "    plt.ylabel('True Label')\n",
        "    plt.xlabel('Predicted Label')\n",
        "    plt.show()"
      ]
    },
    {
      "cell_type": "markdown",
      "metadata": {
        "id": "CadSx2_edXtN"
      },
      "source": [
        "Imposto alcuni parametri, come il path del test set, la dimensione delle immagini in input alla rete e la dimensione del batch per il test"
      ]
    },
    {
      "cell_type": "code",
      "execution_count": null,
      "metadata": {
        "id": "VOdgAE8edkcw"
      },
      "outputs": [],
      "source": [
        "test_folder = \"/content/drive/MyDrive/Colab Notebooks/Dataset Gravina/Test/\"\n",
        "IMAGE_SIZE = 224\n",
        "random.seed(3)\n",
        "test_batchsize = 1"
      ]
    },
    {
      "cell_type": "markdown",
      "metadata": {
        "id": "DyvRNeQ6donJ"
      },
      "source": [
        "Successivamente, carico il modello creato in precedenza"
      ]
    },
    {
      "cell_type": "code",
      "execution_count": null,
      "metadata": {
        "id": "rMiJYXoFdtB2"
      },
      "outputs": [],
      "source": [
        "model = load_model(\"model.hdf5\")"
      ]
    },
    {
      "cell_type": "markdown",
      "metadata": {
        "id": "lSxwEsLsduHx"
      },
      "source": [
        "E, proprio come per il training, vado a caricare le immagini con i seguenti metodi"
      ]
    },
    {
      "cell_type": "code",
      "execution_count": null,
      "metadata": {
        "colab": {
          "base_uri": "https://localhost:8080/"
        },
        "id": "Ksq55Si9d4Tg",
        "outputId": "f5c747b4-358f-4089-c289-a7bc229c6168"
      },
      "outputs": [
        {
          "output_type": "stream",
          "name": "stdout",
          "text": [
            "Found 90 images belonging to 17 classes.\n"
          ]
        }
      ],
      "source": [
        "test_datagen = ImageDataGenerator(preprocessing_function=preprocess_input)\n",
        "test_generator = test_datagen.flow_from_directory(\n",
        "        test_folder,\n",
        "        target_size=(IMAGE_SIZE, IMAGE_SIZE),\n",
        "        batch_size=test_batchsize,\n",
        "        class_mode='categorical',\n",
        "        shuffle=False)"
      ]
    },
    {
      "cell_type": "markdown",
      "metadata": {
        "id": "kcOs98jvel0J"
      },
      "source": [
        "Vado a leggere le classi assegnate agli esempi di test e il corrispettivo indice numerico"
      ]
    },
    {
      "cell_type": "code",
      "execution_count": null,
      "metadata": {
        "id": "TLS8pUisfM70"
      },
      "outputs": [],
      "source": [
        "ground_truth = test_generator.classes\n",
        "label2index = test_generator.class_indices\n",
        "idx2label = dict((v, k) for k, v in label2index.items())"
      ]
    },
    {
      "cell_type": "markdown",
      "metadata": {
        "id": "IZ-lRmDzgmBc"
      },
      "source": [
        "Effettuo la classificazione degli esempi di test"
      ]
    },
    {
      "cell_type": "code",
      "execution_count": null,
      "metadata": {
        "colab": {
          "base_uri": "https://localhost:8080/"
        },
        "id": "EziE5u5Xgtv3",
        "outputId": "a55d9a4e-4804-4e5a-dd2e-f1f9ee0b2872"
      },
      "outputs": [
        {
          "output_type": "stream",
          "name": "stderr",
          "text": [
            "/usr/local/lib/python3.7/dist-packages/ipykernel_launcher.py:3: UserWarning: `Model.predict_generator` is deprecated and will be removed in a future version. Please use `Model.predict`, which supports generators.\n",
            "  This is separate from the ipykernel package so we can avoid doing imports until\n"
          ]
        },
        {
          "output_type": "stream",
          "name": "stdout",
          "text": [
            "90/90 [==============================] - 76s 841ms/step\n"
          ]
        }
      ],
      "source": [
        "predictions = model.predict_generator(test_generator,\n",
        "                      steps=test_generator.samples / test_generator.batch_size,\n",
        "                      verbose=1)\n",
        "predicted_classes = np.argmax(predictions, axis=1)"
      ]
    },
    {
      "cell_type": "markdown",
      "metadata": {
        "id": "eNOMJ1gmhHD6"
      },
      "source": [
        "Calcolo il numero di errori effettuati dal modello, la matrice di confusione e visualizzo le metriche prestazionali"
      ]
    },
    {
      "cell_type": "code",
      "execution_count": null,
      "metadata": {
        "colab": {
          "base_uri": "https://localhost:8080/",
          "height": 819
        },
        "id": "C-xz-G1ZhMMz",
        "outputId": "9a157be8-1a96-48d2-851d-8bbf9b50523a"
      },
      "outputs": [
        {
          "output_type": "stream",
          "name": "stdout",
          "text": [
            "No of errors = 9/90\n"
          ]
        },
        {
          "output_type": "display_data",
          "data": {
            "text/plain": [
              "<Figure size 432x288 with 2 Axes>"
            ],
            "image/png": "[encoded data removed]"
          },
          "metadata": {
            "needs_background": "light"
          }
        },
        {
          "output_type": "stream",
          "name": "stdout",
          "text": [
            "              precision    recall  f1-score   support\n",
            "\n",
            "           0       0.80      1.00      0.89         4\n",
            "           1       1.00      1.00      1.00         7\n",
            "           2       1.00      1.00      1.00         5\n",
            "           3       0.75      0.75      0.75         4\n",
            "           4       1.00      0.67      0.80         6\n",
            "           5       0.83      0.71      0.77         7\n",
            "           6       1.00      0.75      0.86         8\n",
            "           7       1.00      0.80      0.89         5\n",
            "           8       0.40      1.00      0.57         2\n",
            "           9       1.00      1.00      1.00         4\n",
            "          10       0.67      1.00      0.80         4\n",
            "          11       1.00      1.00      1.00         5\n",
            "          12       1.00      1.00      1.00         5\n",
            "          13       1.00      1.00      1.00         4\n",
            "          14       0.86      1.00      0.92         6\n",
            "          15       1.00      0.88      0.93         8\n",
            "          16       1.00      1.00      1.00         6\n",
            "\n",
            "    accuracy                           0.90        90\n",
            "   macro avg       0.90      0.92      0.89        90\n",
            "weighted avg       0.93      0.90      0.90        90\n",
            "\n"
          ]
        }
      ],
      "source": [
        "errors = np.where(predicted_classes != ground_truth)[0]\n",
        "print(\"No of errors = {}/{}\".format(len(errors), test_generator.samples))\n",
        "labels = [\"4Fontane\", \"Bastione\",\"BibliotecaFinya\",\"Castello\",\"Cattedrale\",\"MadonnaDellaStella\",\"Museo\",\"Orologio\",\"PalazzoOrsini\",\"Ponte\",\"Purgatorio\",\"SanBasilio\",\"SanFrancesco\",\"SanMichele\",\"SantaLucia\",\"SantaSofia\",\"StatuaPapa\"]\n",
        "show_confusion_matrix(predicted_classes, ground_truth, labels)\n",
        "print(classification_report(predicted_classes, ground_truth))"
      ]
    }
  ],
  "metadata": {
    "accelerator": "GPU",
    "colab": {
      "collapsed_sections": [],
      "name": "CNN Gravina.ipynb",
      "provenance": [],
      "include_colab_link": true
    },
    "kernelspec": {
      "display_name": "Python 3",
      "name": "python3"
    }
  },
  "nbformat": 4,
  "nbformat_minor": 0
}